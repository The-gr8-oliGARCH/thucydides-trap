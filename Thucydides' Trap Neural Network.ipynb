{
 "cells": [
  {
   "cell_type": "code",
   "execution_count": 3,
   "metadata": {
    "scrolled": true
   },
   "outputs": [
    {
     "name": "stdout",
     "output_type": "stream",
     "text": [
      "Found 11 images belonging to 2 classes.\n",
      "Found 5 images belonging to 2 classes.\n",
      "Epoch 1/5\n",
      "64/64 [==============================] - 10s 151ms/step - loss: 0.2465 - acc: 0.9361 - val_loss: 2.9260 - val_acc: 0.6000\n",
      "Epoch 2/5\n",
      "64/64 [==============================] - 8s 132ms/step - loss: 0.0092 - acc: 0.9986 - val_loss: 5.7417 - val_acc: 0.6000\n",
      "Epoch 3/5\n",
      "64/64 [==============================] - 8s 131ms/step - loss: 0.0035 - acc: 1.0000 - val_loss: 4.7561 - val_acc: 0.6000\n",
      "Epoch 4/5\n",
      "64/64 [==============================] - 8s 130ms/step - loss: 6.9770e-04 - acc: 1.0000 - val_loss: 4.5133 - val_acc: 0.6000\n",
      "Epoch 5/5\n",
      "64/64 [==============================] - 8s 130ms/step - loss: 4.5230e-04 - acc: 1.0000 - val_loss: 4.9187 - val_acc: 0.6000\n",
      "War\n"
     ]
    }
   ],
   "source": [
    "# Importing the Keras libraries and packages\n",
    "from keras.models import Sequential\n",
    "from keras.layers import Conv2D\n",
    "from keras.layers import MaxPooling2D\n",
    "from keras.layers import Flatten\n",
    "from keras.layers import Dense\n",
    "from keras.preprocessing.image import ImageDataGenerator\n",
    "import numpy as np\n",
    "from keras.preprocessing import image\n",
    "\n",
    "classifier = Sequential()\n",
    "classifier.add(Conv2D(32, (3, 3), input_shape = (64, 64, 3), activation = 'relu'))\n",
    "classifier.add(MaxPooling2D(pool_size = (2, 2)))\n",
    "classifier.add(Flatten())\n",
    "classifier.add(Dense(units = 128, activation = 'relu'))\n",
    "classifier.add(Dense(units = 1, activation = 'sigmoid'))\n",
    "classifier.compile(optimizer = 'adam', loss = 'binary_crossentropy', metrics = ['accuracy'])\n",
    "train_datagen = ImageDataGenerator(rescale = 1./255, shear_range = 0.2, zoom_range = 0.2, horizontal_flip = True)\n",
    "test_datagen = ImageDataGenerator(rescale = 1./255)\n",
    "training_set = train_datagen.flow_from_directory('data/train/', target_size = (64, 64), batch_size = 32, class_mode = 'binary')\n",
    "test_set = test_datagen.flow_from_directory('data/test/', target_size = (64, 64), batch_size = 32, class_mode = 'binary')\n",
    "classifier.fit_generator(training_set, steps_per_epoch = 64, epochs = 5, validation_data = test_set, validation_steps = 5)\n",
    "test_image = image.load_img('data/pred/a.png', target_size = (64, 64))\n",
    "test_image = image.img_to_array(test_image)\n",
    "test_image = np.expand_dims(test_image, axis = 0)\n",
    "result = classifier.predict(test_image)\n",
    "training_set.class_indices\n",
    "if result[0][0] == 1:\n",
    "    prediction = 'War'\n",
    "else:\n",
    "    prediction = 'No war'\n",
    "print(prediction)"
   ]
  },
  {
   "cell_type": "code",
   "execution_count": null,
   "metadata": {},
   "outputs": [],
   "source": []
  }
 ],
 "metadata": {
  "kernelspec": {
   "display_name": "Python 3",
   "language": "python",
   "name": "python3"
  },
  "language_info": {
   "codemirror_mode": {
    "name": "ipython",
    "version": 3
   },
   "file_extension": ".py",
   "mimetype": "text/x-python",
   "name": "python",
   "nbconvert_exporter": "python",
   "pygments_lexer": "ipython3",
   "version": "3.6.4"
  }
 },
 "nbformat": 4,
 "nbformat_minor": 2
}
